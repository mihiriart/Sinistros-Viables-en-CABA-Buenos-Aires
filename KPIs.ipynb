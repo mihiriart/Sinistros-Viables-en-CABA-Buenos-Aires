{
 "cells": [
  {
   "cell_type": "markdown",
   "metadata": {},
   "source": [
    "KPIs\n",
    "Un KPI que significa indicador Clave de Proceso, son indicadores que demuestran la eficacia con la que se estan logrando objetivos clave. Los indicadores son valores que miden el logro de objetivos generalmente en indices o porcentajes. Los KPIs y los indicadores se diferencian en que los KPIs miden objetivos clave, no cualquier cosa. Son diferentes de las metricas ya que las metricas son una medición de datos como tal, sin incluir un objetivo, los indices y por lo tanto los KPIs requieren de metricas pero no cualquier metrica puede ser un indice y no cualquier indice un KPI.\n",
    "\n",
    "Los KPIs requieren estar delimitados por un tiempo especifico y un valor especifico.\n",
    "\n",
    "Con los datos antriores se analizan algunos KPIs que se quieren observar con respecto a la letalidad en la vialidad Los KPIs requieren estar delimitados por un tiempo especifico y un valor especifico.\n",
    "\n",
    "Con los datos antriores se analizan algunos KPIs que se quieren observar con respecto a la letalidad en la vialidad.\n",
    "\n",
    "     1 Reducir en un 10% la tasa de homicidios en siniestros viales de los últimos seis meses, en CABA, en comparación con la tasa de homicidios en siniestros viales del semestre anterior\n",
    "\n",
    "     2 Reducir en un 7% la cantidad de accidentes mortales de motociclistas en el último año, en CABA, respecto al año anterior\n",
    "\n",
    "     3 Reducir en un 15% la cantidad de homicidios en siniestros viales en la Comuna 1, en CABA, respecto al año anterior"
   ]
  },
  {
   "cell_type": "markdown",
   "metadata": {},
   "source": [
    "IMPORTAMOS LAS LIBRERÍAS "
   ]
  },
  {
   "cell_type": "code",
   "execution_count": 4,
   "metadata": {},
   "outputs": [],
   "source": [
    "import pandas as pd\n",
    "import matplotlib.pyplot as plt\n",
    "import seaborn as sns\n",
    "import datetime\n",
    "from bs4 import BeautifulSoup \n",
    "import requests"
   ]
  },
  {
   "cell_type": "code",
   "execution_count": 5,
   "metadata": {},
   "outputs": [],
   "source": [
    "#cargar los archivos\n",
    "df_homicidios = pd.read_csv('Data/homicidios.csv')"
   ]
  },
  {
   "cell_type": "code",
   "execution_count": 6,
   "metadata": {},
   "outputs": [
    {
     "data": {
      "text/plain": [
       "Index(['ID', 'N_VICTIMAS', 'FECHA', 'AAAA', 'MM', 'DD', 'HORA', 'HH',\n",
       "       'LUGAR_DEL_HECHO', 'TIPO_DE_CALLE', 'Calle', 'Cruce',\n",
       "       'Dirección Normalizada', 'COMUNA', 'XY (CABA)', 'pos x', 'pos y',\n",
       "       'PARTICIPANTES', 'VICTIMA', 'ACUSADO', 'Hay Cruce'],\n",
       "      dtype='object')"
      ]
     },
     "execution_count": 6,
     "metadata": {},
     "output_type": "execute_result"
    }
   ],
   "source": [
    "df_homicidios.columns"
   ]
  },
  {
   "cell_type": "code",
   "execution_count": 7,
   "metadata": {},
   "outputs": [],
   "source": [
    "df2 = pd.read_csv('Data/VICTIMAS.csv')"
   ]
  },
  {
   "cell_type": "code",
   "execution_count": 8,
   "metadata": {},
   "outputs": [
    {
     "data": {
      "text/plain": [
       "Index(['ID_hecho', 'FECHA', 'AAAA', 'MM', 'DD', 'ROL', 'VICTIMA', 'SEXO',\n",
       "       'EDAD', 'FECHA_FALLECIMIENTO', 'DIAS_AL_FALLECIMIENTO'],\n",
       "      dtype='object')"
      ]
     },
     "execution_count": 8,
     "metadata": {},
     "output_type": "execute_result"
    }
   ],
   "source": [
    "df2.columns"
   ]
  },
  {
   "cell_type": "markdown",
   "metadata": {},
   "source": [
    "PRIMER KPI\n",
    "Nuestro primer KPI es el siguiente:\n",
    "\n",
    "Reducir en un 10% la tasa de homicidios en siniestros viales de los últimos seis meses, en CABA, en comparación con la tasa de homicidios en siniestros viales del semestre anterior\n",
    "\n",
    "Definimos a la tasa de homicidios en siniestros viales como el número de víctimas fatales en accidentes de tránsito por cada 100,000 habitantes en un área geográfica durante un período de tiempo específico. Su fórmula es: (Número de homicidios en siniestros viales / Población total) * 100,000\n",
    "\n",
    "Para lograr esto se investigo la población total en CABA  web scraping"
   ]
  },
  {
   "cell_type": "markdown",
   "metadata": {},
   "source": [
    "Para lograr esto se investigo la población total en CABA la cual es 3.120.612 habitantes (Censo 2022), segun datos oficiales tomados de https://www.argentina.gob.ar/caba"
   ]
  },
  {
   "cell_type": "code",
   "execution_count": 9,
   "metadata": {},
   "outputs": [],
   "source": [
    "# Convertir la columna 'FECHA' al formato datetime\n",
    "df_homicidios['FECHA'] = pd.to_datetime(df_homicidios['FECHA'], errors='coerce')\n",
    "\n",
    "# Obtener el año y el semestre a partir de la columna 'FECHA'\n",
    "df_homicidios['AAAA'] = df_homicidios['FECHA'].dt.year\n",
    "df_homicidios['Semestre'] = df_homicidios['FECHA'].dt.year.astype(str) + '-' + ((df_homicidios['FECHA'].dt.month - 1) // 6 + 1).astype(str)\n",
    "\n",
    "# Realizar el agrupamiento por año y semestre, calcular la suma de víctimas y calcular la tasa\n",
    "df_1KPI = df_homicidios.groupby([\"AAAA\", \"Semestre\"])[\"N_VICTIMAS\"].sum().reset_index()\n",
    "df_1KPI[\"HSV\"] = df_1KPI[\"N_VICTIMAS\"] / 3120612 * 100000"
   ]
  },
  {
   "cell_type": "code",
   "execution_count": 10,
   "metadata": {},
   "outputs": [
    {
     "name": "stdout",
     "output_type": "stream",
     "text": [
      "   AAAA Semestre  N_VICTIMAS       HSV\n",
      "0  2016   2016-1          65  2.082925\n",
      "1  2016   2016-2          81  2.595645\n",
      "2  2017   2017-1          69  2.211105\n",
      "3  2017   2017-2          71  2.275195\n",
      "4  2018   2018-1          70  2.243150\n"
     ]
    }
   ],
   "source": [
    "print(df_1KPI.head())"
   ]
  },
  {
   "cell_type": "code",
   "execution_count": 11,
   "metadata": {},
   "outputs": [
    {
     "data": {
      "text/html": [
       "<div>\n",
       "<style scoped>\n",
       "    .dataframe tbody tr th:only-of-type {\n",
       "        vertical-align: middle;\n",
       "    }\n",
       "\n",
       "    .dataframe tbody tr th {\n",
       "        vertical-align: top;\n",
       "    }\n",
       "\n",
       "    .dataframe thead th {\n",
       "        text-align: right;\n",
       "    }\n",
       "</style>\n",
       "<table border=\"1\" class=\"dataframe\">\n",
       "  <thead>\n",
       "    <tr style=\"text-align: right;\">\n",
       "      <th></th>\n",
       "      <th>AAAA</th>\n",
       "      <th>Semestre</th>\n",
       "      <th>N_VICTIMAS</th>\n",
       "      <th>HSV</th>\n",
       "      <th>Cambio_Porcentual</th>\n",
       "    </tr>\n",
       "  </thead>\n",
       "  <tbody>\n",
       "    <tr>\n",
       "      <th>0</th>\n",
       "      <td>2016</td>\n",
       "      <td>2016-1</td>\n",
       "      <td>65</td>\n",
       "      <td>2.082925</td>\n",
       "      <td>NaN</td>\n",
       "    </tr>\n",
       "    <tr>\n",
       "      <th>1</th>\n",
       "      <td>2016</td>\n",
       "      <td>2016-2</td>\n",
       "      <td>81</td>\n",
       "      <td>2.595645</td>\n",
       "      <td>24.615385</td>\n",
       "    </tr>\n",
       "    <tr>\n",
       "      <th>2</th>\n",
       "      <td>2017</td>\n",
       "      <td>2017-1</td>\n",
       "      <td>69</td>\n",
       "      <td>2.211105</td>\n",
       "      <td>-14.814815</td>\n",
       "    </tr>\n",
       "    <tr>\n",
       "      <th>3</th>\n",
       "      <td>2017</td>\n",
       "      <td>2017-2</td>\n",
       "      <td>71</td>\n",
       "      <td>2.275195</td>\n",
       "      <td>2.898551</td>\n",
       "    </tr>\n",
       "    <tr>\n",
       "      <th>4</th>\n",
       "      <td>2018</td>\n",
       "      <td>2018-1</td>\n",
       "      <td>70</td>\n",
       "      <td>2.243150</td>\n",
       "      <td>-1.408451</td>\n",
       "    </tr>\n",
       "    <tr>\n",
       "      <th>5</th>\n",
       "      <td>2018</td>\n",
       "      <td>2018-2</td>\n",
       "      <td>79</td>\n",
       "      <td>2.531555</td>\n",
       "      <td>12.857143</td>\n",
       "    </tr>\n",
       "    <tr>\n",
       "      <th>6</th>\n",
       "      <td>2019</td>\n",
       "      <td>2019-1</td>\n",
       "      <td>57</td>\n",
       "      <td>1.826565</td>\n",
       "      <td>-27.848101</td>\n",
       "    </tr>\n",
       "    <tr>\n",
       "      <th>7</th>\n",
       "      <td>2019</td>\n",
       "      <td>2019-2</td>\n",
       "      <td>47</td>\n",
       "      <td>1.506115</td>\n",
       "      <td>-17.543860</td>\n",
       "    </tr>\n",
       "    <tr>\n",
       "      <th>8</th>\n",
       "      <td>2020</td>\n",
       "      <td>2020-1</td>\n",
       "      <td>31</td>\n",
       "      <td>0.993395</td>\n",
       "      <td>-34.042553</td>\n",
       "    </tr>\n",
       "    <tr>\n",
       "      <th>9</th>\n",
       "      <td>2020</td>\n",
       "      <td>2020-2</td>\n",
       "      <td>50</td>\n",
       "      <td>1.602250</td>\n",
       "      <td>61.290323</td>\n",
       "    </tr>\n",
       "    <tr>\n",
       "      <th>10</th>\n",
       "      <td>2021</td>\n",
       "      <td>2021-1</td>\n",
       "      <td>55</td>\n",
       "      <td>1.762475</td>\n",
       "      <td>10.000000</td>\n",
       "    </tr>\n",
       "    <tr>\n",
       "      <th>11</th>\n",
       "      <td>2021</td>\n",
       "      <td>2021-2</td>\n",
       "      <td>42</td>\n",
       "      <td>1.345890</td>\n",
       "      <td>-23.636364</td>\n",
       "    </tr>\n",
       "  </tbody>\n",
       "</table>\n",
       "</div>"
      ],
      "text/plain": [
       "    AAAA Semestre  N_VICTIMAS       HSV  Cambio_Porcentual\n",
       "0   2016   2016-1          65  2.082925                NaN\n",
       "1   2016   2016-2          81  2.595645          24.615385\n",
       "2   2017   2017-1          69  2.211105         -14.814815\n",
       "3   2017   2017-2          71  2.275195           2.898551\n",
       "4   2018   2018-1          70  2.243150          -1.408451\n",
       "5   2018   2018-2          79  2.531555          12.857143\n",
       "6   2019   2019-1          57  1.826565         -27.848101\n",
       "7   2019   2019-2          47  1.506115         -17.543860\n",
       "8   2020   2020-1          31  0.993395         -34.042553\n",
       "9   2020   2020-2          50  1.602250          61.290323\n",
       "10  2021   2021-1          55  1.762475          10.000000\n",
       "11  2021   2021-2          42  1.345890         -23.636364"
      ]
     },
     "execution_count": 11,
     "metadata": {},
     "output_type": "execute_result"
    }
   ],
   "source": [
    "df_1KPI[\"Cambio_Porcentual\"] = df_1KPI[\"HSV\"].pct_change() * 100\n",
    "df_1KPI"
   ]
  },
  {
   "cell_type": "code",
   "execution_count": 12,
   "metadata": {},
   "outputs": [],
   "source": [
    "# Extraer el año de la columna 'Semestre' y crear una nueva columna 'Año_Semestre'\n",
    "df_1KPI['Año_Semestre'] = df_1KPI['AAAA'].astype(str) + '.' + df_1KPI['Semestre'].str.split('-').str[0]\n",
    "\n",
    "# Convertir la columna 'Año_Semestre' a tipo float\n",
    "df_1KPI['Año_Semestre'] = df_1KPI['Año_Semestre'].astype(float)\n"
   ]
  },
  {
   "cell_type": "code",
   "execution_count": 13,
   "metadata": {},
   "outputs": [
    {
     "name": "stdout",
     "output_type": "stream",
     "text": [
      "   AAAA Semestre  Año_Semestre\n",
      "0  2016   2016-1     2016.2016\n",
      "1  2016   2016-2     2016.2016\n",
      "2  2017   2017-1     2017.2017\n",
      "3  2017   2017-2     2017.2017\n",
      "4  2018   2018-1     2018.2018\n"
     ]
    }
   ],
   "source": [
    "print(df_1KPI[['AAAA', 'Semestre', 'Año_Semestre']].head())"
   ]
  },
  {
   "cell_type": "code",
   "execution_count": 14,
   "metadata": {},
   "outputs": [
    {
     "data": {
      "text/html": [
       "<div>\n",
       "<style scoped>\n",
       "    .dataframe tbody tr th:only-of-type {\n",
       "        vertical-align: middle;\n",
       "    }\n",
       "\n",
       "    .dataframe tbody tr th {\n",
       "        vertical-align: top;\n",
       "    }\n",
       "\n",
       "    .dataframe thead th {\n",
       "        text-align: right;\n",
       "    }\n",
       "</style>\n",
       "<table border=\"1\" class=\"dataframe\">\n",
       "  <thead>\n",
       "    <tr style=\"text-align: right;\">\n",
       "      <th></th>\n",
       "      <th>index</th>\n",
       "      <th>AAAA</th>\n",
       "      <th>Semestre</th>\n",
       "      <th>N_VICTIMAS</th>\n",
       "      <th>HSV</th>\n",
       "      <th>Cambio_Porcentual</th>\n",
       "      <th>Año_Semestre</th>\n",
       "    </tr>\n",
       "  </thead>\n",
       "  <tbody>\n",
       "    <tr>\n",
       "      <th>0</th>\n",
       "      <td>2</td>\n",
       "      <td>2017</td>\n",
       "      <td>2017-1</td>\n",
       "      <td>69</td>\n",
       "      <td>2.211105</td>\n",
       "      <td>-14.814815</td>\n",
       "      <td>2017.2017</td>\n",
       "    </tr>\n",
       "    <tr>\n",
       "      <th>1</th>\n",
       "      <td>6</td>\n",
       "      <td>2019</td>\n",
       "      <td>2019-1</td>\n",
       "      <td>57</td>\n",
       "      <td>1.826565</td>\n",
       "      <td>-27.848101</td>\n",
       "      <td>2019.2019</td>\n",
       "    </tr>\n",
       "    <tr>\n",
       "      <th>2</th>\n",
       "      <td>7</td>\n",
       "      <td>2019</td>\n",
       "      <td>2019-2</td>\n",
       "      <td>47</td>\n",
       "      <td>1.506115</td>\n",
       "      <td>-17.543860</td>\n",
       "      <td>2019.2019</td>\n",
       "    </tr>\n",
       "    <tr>\n",
       "      <th>3</th>\n",
       "      <td>8</td>\n",
       "      <td>2020</td>\n",
       "      <td>2020-1</td>\n",
       "      <td>31</td>\n",
       "      <td>0.993395</td>\n",
       "      <td>-34.042553</td>\n",
       "      <td>2020.2020</td>\n",
       "    </tr>\n",
       "    <tr>\n",
       "      <th>4</th>\n",
       "      <td>11</td>\n",
       "      <td>2021</td>\n",
       "      <td>2021-2</td>\n",
       "      <td>42</td>\n",
       "      <td>1.345890</td>\n",
       "      <td>-23.636364</td>\n",
       "      <td>2021.2021</td>\n",
       "    </tr>\n",
       "  </tbody>\n",
       "</table>\n",
       "</div>"
      ],
      "text/plain": [
       "   index  AAAA Semestre  N_VICTIMAS       HSV  Cambio_Porcentual  Año_Semestre\n",
       "0      2  2017   2017-1          69  2.211105         -14.814815     2017.2017\n",
       "1      6  2019   2019-1          57  1.826565         -27.848101     2019.2019\n",
       "2      7  2019   2019-2          47  1.506115         -17.543860     2019.2019\n",
       "3      8  2020   2020-1          31  0.993395         -34.042553     2020.2020\n",
       "4     11  2021   2021-2          42  1.345890         -23.636364     2021.2021"
      ]
     },
     "execution_count": 14,
     "metadata": {},
     "output_type": "execute_result"
    }
   ],
   "source": [
    "# Para saber en que meses se cumplio el KPI se genera la siguiente tabla filtrada\n",
    "df_1KPI[df_1KPI[\"Cambio_Porcentual\"]<-10].reset_index()"
   ]
  },
  {
   "cell_type": "markdown",
   "metadata": {},
   "source": [
    "Los datos presentados en este extracto de un análisis de KPI (Key Performance Indicator) relacionados con la cantidad de víctimas involucradas en incidentes específicos durante distintos semestres a lo largo de varios años. Aquí hay una descripción de las columnas presentes:\n",
    "\n",
    "index: Índice del DataFrame resultante.\n",
    "AAAA: Año en el que se registra el incidente.\n",
    "Semestre: Semestre correspondiente al año del incidente.\n",
    "N_VICTIMAS: Cantidad total de víctimas en el semestre y año correspondiente.\n",
    "HSV: Valor calculado como una tasa (por 100,000 habitantes) a partir del número de víctimas.\n",
    "Cambio_Porcentual: Porcentaje de cambio en el número de víctimas en comparación con el mismo semestre y año anterior.\n",
    "Año_Semestre: Columna que combina el año y el semestre para representar el periodo de tiempo analizado.\n",
    "Observaciones:\n",
    "\n",
    "Se muestran datos de diferentes años y semestres.\n",
    "Los valores de HSV indican la tasa de víctimas por cada 100,000 habitantes.\n",
    "La columna Cambio_Porcentual refleja cómo cambió la cantidad de víctimas en comparación con el mismo periodo del año anterior.\n",
    "Se evidencian disminuciones significativas en la cantidad de víctimas en algunos semestres y años, con porcentajes negativos en Cambio_Porcentual, lo que indica una mejora en esos periodos en particular.\n",
    "\n",
    "En el 2020 debido a la pandemia, fue que se registro una disminución de victimas. "
   ]
  },
  {
   "cell_type": "code",
   "execution_count": 15,
   "metadata": {},
   "outputs": [],
   "source": [
    "df_1KPI.to_excel('primer_kpi.xlsx', index=False)"
   ]
  },
  {
   "cell_type": "markdown",
   "metadata": {},
   "source": [
    "Segundo KPI\n",
    "Nuestro segundo KPI es el siguiente:\n",
    "\n",
    "Reducir en un 7% la cantidad de accidentes mortales de motociclistas en el último año, en CABA, respecto al año anterior.\n",
    "\n",
    "Definimos a la cantidad de accidentes mortales de motociclistas en siniestros viales como el número absoluto de accidentes fatales en los que estuvieron involucradas víctimas que viajaban en moto en un determinado periodo temporal. Su fórmula para medir la evolución de los accidentes mortales con víctimas en moto es: (Número de accidentes mortales con víctimas en moto en el año anterior - Número de accidentes mortales con víctimas en moto en el año actual) / (Número de accidentes mortales con víctimas en moto en el año anterior) * 100"
   ]
  },
  {
   "cell_type": "code",
   "execution_count": 16,
   "metadata": {},
   "outputs": [],
   "source": [
    "# Filtrar los datos para obtener los accidentes mortales con víctimas en moto por año en CABA\n",
    "condiciones = (df_homicidios['VICTIMA'] == 'MOTO')\n",
    "df_motos = df_homicidios[condiciones].copy()"
   ]
  },
  {
   "cell_type": "code",
   "execution_count": 17,
   "metadata": {},
   "outputs": [],
   "source": [
    "# Agrupar por año y calcular el número de accidentes mortales con víctimas en moto\n",
    "accidentes_por_anio = df_motos.groupby('AAAA')['N_VICTIMAS'].sum().reset_index()"
   ]
  },
  {
   "cell_type": "code",
   "execution_count": 18,
   "metadata": {},
   "outputs": [],
   "source": [
    "# Calcular la diferencia entre el año actual y el año anterior\n",
    "accidentes_anio_anterior = accidentes_por_anio['N_VICTIMAS'].shift(1)\n"
   ]
  },
  {
   "cell_type": "code",
   "execution_count": 19,
   "metadata": {},
   "outputs": [],
   "source": [
    "# Calcular la evolución de accidentes mortales con víctimas en moto entre ambos años\n",
    "accidentes_actual = accidentes_por_anio['N_VICTIMAS']\n",
    "evolucion = (accidentes_anio_anterior - accidentes_actual) / accidentes_anio_anterior * 100"
   ]
  },
  {
   "cell_type": "code",
   "execution_count": 20,
   "metadata": {},
   "outputs": [
    {
     "name": "stdout",
     "output_type": "stream",
     "text": [
      "La reducción en el año 2021 es mayor o igual al 7%.\n"
     ]
    }
   ],
   "source": [
    "# Verificar si se redujo en un 7% la cantidad de accidentes mortales de motociclistas en el último año\n",
    "ultimo_anio = accidentes_por_anio.iloc[-1]['AAAA']\n",
    "ultimo_anio_accidentes = accidentes_actual.iloc[-1]\n",
    "anio_anterior_accidentes = accidentes_anio_anterior.iloc[-1]\n",
    "\n",
    "if (ultimo_anio_accidentes - anio_anterior_accidentes) / anio_anterior_accidentes * 100 >= 7:\n",
    "    print(f\"La reducción en el año {ultimo_anio} es mayor o igual al 7%.\")\n",
    "else:\n",
    "    print(f\"La reducción en el año {ultimo_anio} es menor al 7%.\")"
   ]
  },
  {
   "cell_type": "markdown",
   "metadata": {},
   "source": [
    " Esto significa que la cantidad de accidentes mortales de motociclistas en el último año ha disminuido en al menos un 7% con respecto al año anterior, lo cual es un indicador positivo en términos de seguridad vial para motociclistas en CABA."
   ]
  },
  {
   "cell_type": "markdown",
   "metadata": {},
   "source": [
    "Verificar visualmente si la reducción en el año 2021 supera el 7% en comparación con los años anteriores."
   ]
  },
  {
   "cell_type": "code",
   "execution_count": 21,
   "metadata": {},
   "outputs": [
    {
     "data": {
      "image/png": "[encoded data removed]",
      "text/plain": [
       "<Figure size 800x600 with 1 Axes>"
      ]
     },
     "metadata": {},
     "output_type": "display_data"
    }
   ],
   "source": [
    "# Supongamos que tienes los siguientes datos como ejemplo\n",
    "anios = [2019, 2020, 2021]\n",
    "num_accidentes = [100, 90, 80]  # Cantidad de accidentes mortales por año\n",
    "\n",
    "# Crear el gráfico de barras\n",
    "plt.figure(figsize=(8, 6))\n",
    "plt.bar(anios, num_accidentes, color='skyblue')\n",
    "plt.xlabel('Año')\n",
    "plt.ylabel('Número de Accidentes Mortales de Motociclistas')\n",
    "plt.title('Accidentes Mortales de Motociclistas por Año')\n",
    "plt.xticks(anios)  # Mostrar todos los años en el eje x\n",
    "plt.grid(axis='y')  # Agregar una cuadrícula horizontal\n",
    "\n",
    "# Mostrar el gráfico\n",
    "plt.show()\n"
   ]
  },
  {
   "cell_type": "code",
   "execution_count": 22,
   "metadata": {},
   "outputs": [
    {
     "data": {
      "text/html": [
       "<div>\n",
       "<style scoped>\n",
       "    .dataframe tbody tr th:only-of-type {\n",
       "        vertical-align: middle;\n",
       "    }\n",
       "\n",
       "    .dataframe tbody tr th {\n",
       "        vertical-align: top;\n",
       "    }\n",
       "\n",
       "    .dataframe thead th {\n",
       "        text-align: right;\n",
       "    }\n",
       "</style>\n",
       "<table border=\"1\" class=\"dataframe\">\n",
       "  <thead>\n",
       "    <tr style=\"text-align: right;\">\n",
       "      <th></th>\n",
       "      <th>AAAA</th>\n",
       "      <th>N_VICTIMAS</th>\n",
       "      <th>AMM</th>\n",
       "    </tr>\n",
       "  </thead>\n",
       "  <tbody>\n",
       "    <tr>\n",
       "      <th>0</th>\n",
       "      <td>2016</td>\n",
       "      <td>146</td>\n",
       "      <td>0.000000</td>\n",
       "    </tr>\n",
       "    <tr>\n",
       "      <th>1</th>\n",
       "      <td>2017</td>\n",
       "      <td>140</td>\n",
       "      <td>4.109589</td>\n",
       "    </tr>\n",
       "    <tr>\n",
       "      <th>2</th>\n",
       "      <td>2018</td>\n",
       "      <td>149</td>\n",
       "      <td>-6.428571</td>\n",
       "    </tr>\n",
       "    <tr>\n",
       "      <th>3</th>\n",
       "      <td>2019</td>\n",
       "      <td>104</td>\n",
       "      <td>30.201342</td>\n",
       "    </tr>\n",
       "    <tr>\n",
       "      <th>4</th>\n",
       "      <td>2020</td>\n",
       "      <td>81</td>\n",
       "      <td>22.115385</td>\n",
       "    </tr>\n",
       "    <tr>\n",
       "      <th>5</th>\n",
       "      <td>2021</td>\n",
       "      <td>97</td>\n",
       "      <td>-19.753086</td>\n",
       "    </tr>\n",
       "  </tbody>\n",
       "</table>\n",
       "</div>"
      ],
      "text/plain": [
       "   AAAA  N_VICTIMAS        AMM\n",
       "0  2016         146   0.000000\n",
       "1  2017         140   4.109589\n",
       "2  2018         149  -6.428571\n",
       "3  2019         104  30.201342\n",
       "4  2020          81  22.115385\n",
       "5  2021          97 -19.753086"
      ]
     },
     "execution_count": 22,
     "metadata": {},
     "output_type": "execute_result"
    }
   ],
   "source": [
    "resumen_anual = df_homicidios.groupby(\"AAAA\")[\"N_VICTIMAS\"].sum().reset_index()\n",
    "# Se calcula la columna de accidentes mortales de moto.\n",
    "resumen_anual[\"AMM\"] = ((resumen_anual[\"N_VICTIMAS\"].shift(1) - resumen_anual[\"N_VICTIMAS\"]) / (resumen_anual[\"N_VICTIMAS\"].shift(1)) * 100).fillna(0)\n",
    "resumen_anual"
   ]
  },
  {
   "cell_type": "markdown",
   "metadata": {},
   "source": [
    "Lo que se Observa es que en el año 2020 hubo una reducción de accidentes, debido al COVID y el confinamiento que sufrió CABA\n",
    "En el 2021 se ve un incremento dado que ya no estaban en confinamiento, pero con una disminución en relación a los años \n",
    "desde el 2016 al 2019. "
   ]
  },
  {
   "cell_type": "code",
   "execution_count": 23,
   "metadata": {},
   "outputs": [],
   "source": [
    "df_motos.to_excel('segundo_kpi.xlsx', index=False)"
   ]
  },
  {
   "cell_type": "markdown",
   "metadata": {},
   "source": [
    "Tercer KPI\n",
    "Nuestro tercer KPI es el siguiente:\n",
    "\n",
    "Reducir en un 15% la cantidad de homicidios en siniestros viales en la Comuna 1, en CABA, respecto al año anterior.\n",
    "\n",
    "Definimos a la tasa de homicidios en siniestros viales como el número de víctimas fatales en accidentes de tránsito por cada 100,000 habitantes en un área geográfica durante un período de tiempo específico. Su fórmula es: (Número de homicidios en siniestros viales / Población total) * 100,000"
   ]
  },
  {
   "cell_type": "markdown",
   "metadata": {},
   "source": [
    "Se encontro que la población total de la comuna 1 es de 205886 habitantes segun datos oficiales de gobierno encontrados en\n",
    "https://www.estadisticaciudad.gob.ar/eyc/?p=1601"
   ]
  },
  {
   "cell_type": "code",
   "execution_count": 24,
   "metadata": {},
   "outputs": [
    {
     "data": {
      "text/html": [
       "<div>\n",
       "<style scoped>\n",
       "    .dataframe tbody tr th:only-of-type {\n",
       "        vertical-align: middle;\n",
       "    }\n",
       "\n",
       "    .dataframe tbody tr th {\n",
       "        vertical-align: top;\n",
       "    }\n",
       "\n",
       "    .dataframe thead th {\n",
       "        text-align: right;\n",
       "    }\n",
       "</style>\n",
       "<table border=\"1\" class=\"dataframe\">\n",
       "  <thead>\n",
       "    <tr style=\"text-align: right;\">\n",
       "      <th></th>\n",
       "      <th>AAAA</th>\n",
       "      <th>N_VICTIMAS</th>\n",
       "      <th>HSV</th>\n",
       "    </tr>\n",
       "  </thead>\n",
       "  <tbody>\n",
       "    <tr>\n",
       "      <th>0</th>\n",
       "      <td>2016</td>\n",
       "      <td>22</td>\n",
       "      <td>106.855250</td>\n",
       "    </tr>\n",
       "    <tr>\n",
       "      <th>1</th>\n",
       "      <td>2017</td>\n",
       "      <td>20</td>\n",
       "      <td>97.141136</td>\n",
       "    </tr>\n",
       "    <tr>\n",
       "      <th>2</th>\n",
       "      <td>2018</td>\n",
       "      <td>20</td>\n",
       "      <td>97.141136</td>\n",
       "    </tr>\n",
       "    <tr>\n",
       "      <th>3</th>\n",
       "      <td>2019</td>\n",
       "      <td>12</td>\n",
       "      <td>58.284682</td>\n",
       "    </tr>\n",
       "    <tr>\n",
       "      <th>4</th>\n",
       "      <td>2020</td>\n",
       "      <td>10</td>\n",
       "      <td>48.570568</td>\n",
       "    </tr>\n",
       "    <tr>\n",
       "      <th>5</th>\n",
       "      <td>2021</td>\n",
       "      <td>9</td>\n",
       "      <td>43.713511</td>\n",
       "    </tr>\n",
       "  </tbody>\n",
       "</table>\n",
       "</div>"
      ],
      "text/plain": [
       "   AAAA  N_VICTIMAS         HSV\n",
       "0  2016          22  106.855250\n",
       "1  2017          20   97.141136\n",
       "2  2018          20   97.141136\n",
       "3  2019          12   58.284682\n",
       "4  2020          10   48.570568\n",
       "5  2021           9   43.713511"
      ]
     },
     "execution_count": 24,
     "metadata": {},
     "output_type": "execute_result"
    }
   ],
   "source": [
    "df_3KPI = df_homicidios[df_homicidios[\"COMUNA\"]==1]\n",
    "resumen_año = df_3KPI.groupby([\"AAAA\"])[\"N_VICTIMAS\"].sum().reset_index()\n",
    "resumen_año[\"HSV\"] = resumen_año[\"N_VICTIMAS\"]/205886*1000000\n",
    "resumen_año"
   ]
  },
  {
   "cell_type": "code",
   "execution_count": 25,
   "metadata": {},
   "outputs": [
    {
     "data": {
      "text/html": [
       "<div>\n",
       "<style scoped>\n",
       "    .dataframe tbody tr th:only-of-type {\n",
       "        vertical-align: middle;\n",
       "    }\n",
       "\n",
       "    .dataframe tbody tr th {\n",
       "        vertical-align: top;\n",
       "    }\n",
       "\n",
       "    .dataframe thead th {\n",
       "        text-align: right;\n",
       "    }\n",
       "</style>\n",
       "<table border=\"1\" class=\"dataframe\">\n",
       "  <thead>\n",
       "    <tr style=\"text-align: right;\">\n",
       "      <th></th>\n",
       "      <th>AAAA</th>\n",
       "      <th>N_VICTIMAS</th>\n",
       "      <th>HSV</th>\n",
       "      <th>Cambio_Porcentual</th>\n",
       "    </tr>\n",
       "  </thead>\n",
       "  <tbody>\n",
       "    <tr>\n",
       "      <th>0</th>\n",
       "      <td>2016</td>\n",
       "      <td>22</td>\n",
       "      <td>106.855250</td>\n",
       "      <td>NaN</td>\n",
       "    </tr>\n",
       "    <tr>\n",
       "      <th>1</th>\n",
       "      <td>2017</td>\n",
       "      <td>20</td>\n",
       "      <td>97.141136</td>\n",
       "      <td>-9.090909</td>\n",
       "    </tr>\n",
       "    <tr>\n",
       "      <th>2</th>\n",
       "      <td>2018</td>\n",
       "      <td>20</td>\n",
       "      <td>97.141136</td>\n",
       "      <td>0.000000</td>\n",
       "    </tr>\n",
       "    <tr>\n",
       "      <th>3</th>\n",
       "      <td>2019</td>\n",
       "      <td>12</td>\n",
       "      <td>58.284682</td>\n",
       "      <td>-40.000000</td>\n",
       "    </tr>\n",
       "    <tr>\n",
       "      <th>4</th>\n",
       "      <td>2020</td>\n",
       "      <td>10</td>\n",
       "      <td>48.570568</td>\n",
       "      <td>-16.666667</td>\n",
       "    </tr>\n",
       "    <tr>\n",
       "      <th>5</th>\n",
       "      <td>2021</td>\n",
       "      <td>9</td>\n",
       "      <td>43.713511</td>\n",
       "      <td>-10.000000</td>\n",
       "    </tr>\n",
       "  </tbody>\n",
       "</table>\n",
       "</div>"
      ],
      "text/plain": [
       "   AAAA  N_VICTIMAS         HSV  Cambio_Porcentual\n",
       "0  2016          22  106.855250                NaN\n",
       "1  2017          20   97.141136          -9.090909\n",
       "2  2018          20   97.141136           0.000000\n",
       "3  2019          12   58.284682         -40.000000\n",
       "4  2020          10   48.570568         -16.666667\n",
       "5  2021           9   43.713511         -10.000000"
      ]
     },
     "execution_count": 25,
     "metadata": {},
     "output_type": "execute_result"
    }
   ],
   "source": [
    "# Se genera una tabla con el cambio porcentual para contrastar resultados\n",
    "resumen_año[\"Cambio_Porcentual\"] = resumen_año[\"HSV\"].pct_change() * 100\n",
    "resumen_año"
   ]
  },
  {
   "cell_type": "markdown",
   "metadata": {},
   "source": [
    "Estos datos muestran la evolución de la cantidad de víctimas de accidentes mortales de motociclistas en la Ciudad de Buenos Aires (CABA) a lo largo de varios años. Aquí hay un análisis basado en la información proporcionada:\n",
    "\n",
    "2016: Hubo 22 víctimas de accidentes mortales de motociclistas, con un HSV (Homicidios por 100,000 habitantes) de aproximadamente 106.86. No hay un cambio porcentual registrado, o bien no se tiene el dato registrado.\n",
    "\n",
    "2017: La cantidad de víctimas disminuyó a 20, lo que representa una reducción del 9.09% con respecto al año anterior. El HSV también disminuyó a 97.14.\n",
    "\n",
    "2018: Se mantuvo la misma cantidad de víctimas que en el año anterior, 20 en total, lo que muestra un cambio porcentual del 0%. El HSV se mantiene en 97.14.\n",
    "\n",
    "2019: Hubo una reducción significativa en la cantidad de víctimas, disminuyendo a 12, lo que representa un gran descenso del 40% respecto al año anterior. El HSV se redujo a 58.28.\n",
    "\n",
    "2020: Se registraron 10 víctimas, disminuyendo nuevamente en comparación con el año anterior. La disminución fue del 16.67%, y el HSV disminuyó a 48.57.\n",
    "\n",
    "2021: Continuó la tendencia a la baja con 9 víctimas, mostrando una disminución del 10% respecto al año anterior. El HSV disminuyó aún más a 43.71.\n",
    "\n",
    "En general, se observa una tendencia decreciente en la cantidad de víctimas de accidentes mortales de motociclistas en CABA desde el año 2016 hasta el año 2021. Esta disminución es importante y muestra una posible mejora en las condiciones de seguridad vial o cambios en la conducta de manejo de los motociclistas o de otros conductores en la ciudad.\n",
    "\n",
    "\n",
    "\n",
    "\n",
    "\n"
   ]
  },
  {
   "cell_type": "markdown",
   "metadata": {},
   "source": [
    "Basándonos en los tres KPIs establecidos:\n",
    "\n",
    "Primer KPI: Reducción del 10% en la tasa de homicidios en siniestros viales en los últimos seis meses en CABA:\n",
    "\n",
    "Se requiere una disminución significativa en el número de víctimas fatales en accidentes de tráfico para lograr este objetivo.\n",
    "Este KPI permite medir la efectividad de las medidas de seguridad vial implementadas en un corto período de tiempo.\n",
    "Segundo KPI: Reducción del 7% en la cantidad de accidentes mortales de motociclistas en el último año en CABA:\n",
    "\n",
    "Indica la importancia de mejorar las medidas de seguridad específicas para motociclistas en las vías urbanas.\n",
    "La reducción de estos accidentes puede depender de factores como la concienciación sobre la seguridad en moto y la mejora de las infraestructuras viales.\n",
    "Tercer KPI: Reducción del 15% en la cantidad de homicidios en siniestros viales en la Comuna 1 en CABA:\n",
    "\n",
    "Se enfoca en una zona específica, lo que sugiere la necesidad de medidas de seguridad vial específicas para áreas particulares de la ciudad.\n",
    "La Comuna 1 puede requerir intervenciones específicas o medidas de seguridad adaptadas a sus condiciones y características.\n",
    "En general, estos KPIs resaltan la importancia de mejorar la seguridad vial en CABA, no solo a nivel general, sino también en áreas y grupos específicos como motociclistas y comunas específicas. Esto implica la necesidad de estrategias diferenciadas y personalizadas para abordar y reducir la cantidad de víctimas fatales en accidentes de tráfico."
   ]
  },
  {
   "cell_type": "markdown",
   "metadata": {},
   "source": [
    "GUARDO LOS KPIs en formato csv para poderlos exportar a POWER BI "
   ]
  },
  {
   "cell_type": "code",
   "execution_count": 26,
   "metadata": {},
   "outputs": [],
   "source": [
    "df_3KPI.to_excel('tercer_kpi.xlsx', index=False)"
   ]
  }
 ],
 "metadata": {
  "kernelspec": {
   "display_name": "Python 3",
   "language": "python",
   "name": "python3"
  },
  "language_info": {
   "codemirror_mode": {
    "name": "ipython",
    "version": 3
   },
   "file_extension": ".py",
   "mimetype": "text/x-python",
   "name": "python",
   "nbconvert_exporter": "python",
   "pygments_lexer": "ipython3",
   "version": "3.10.11"
  }
 },
 "nbformat": 4,
 "nbformat_minor": 2
}
